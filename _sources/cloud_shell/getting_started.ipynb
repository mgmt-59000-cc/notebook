{
 "cells": [
  {
   "cell_type": "markdown",
   "metadata": {},
   "source": [
    "# Set Up Cloud Shell\n",
    "\n",
    "## Create a Resource Group and Storage for your Cloud Shell files\n",
    "1. Log into https://portal.azure.com\n",
    "2. Create a new Resource group\n",
    "    1. `fa24_59000_cc`\n",
    "    2. Select a Region (East US)\n",
    "3. Open Azure Cloud Shell\n",
    "4. Choose Bash\n",
    "5. Choose `Mount storage account`\n",
    "6. Choose `Azure for Students` under subscription\n",
    "7. Choose `I want to create a storage account`\n",
    "    1. Select the Resource group and Region for the Resource group\n",
    "    2. Create a **globally unique** name for the Storage account name (`fa24elliott59000ccdev`)\n",
    "    3. Create a name for the File share (this is the folder where you will store your files)"
   ]
  },
  {
   "cell_type": "markdown",
   "metadata": {},
   "source": [
    "## Open the Cloud Shell\n",
    "1. Visit the [Azure Portal](https://portal.azure.com)\n",
    "    * Log in with your USERNAME@purdue.edu account\n",
    "2. Click the \"Cloud Shell\" icon at the top of the screen\n",
    "\n",
    "```{image} images/cloud_shell.png\n",
    ":alt: Screenshot of the Azure Portal toolbar\n",
    ":align: center\n",
    ":width: 500px\n",
    "```\n",
    "3. Once Cloud Shell opens, go to Settings and choose `Go to Classic version`\n",
    "\n",
    "```{image} images/cloud_shell_settings.png\n",
    ":alt: Screenshot of Cloud Shell settings menu\n",
    ":align: center\n",
    ":width: 150px\n",
    "```"
   ]
  },
  {
   "cell_type": "markdown",
   "metadata": {},
   "source": [
    "# Use the Azure CLI in Cloud Shell\n",
    "1. View a list of your subscriptions with `az account list --output table`\n",
    "2. View a list of your resource groups with `az group list --output table`\n",
    "3. Set the working resource group to the group you created earlier\n",
    "```\n",
    "az config set defaults.group=fa24_cloud_dev\n",
    "```"
   ]
  },
  {
   "cell_type": "markdown",
   "metadata": {},
   "source": [
    "# Demo Creating a File\n",
    "1. `ls` lists files (note `clouddrive` is there)\n",
    "2. `cd clouddrive`\n",
    "3. `ls` (empty - no files)\n",
    "\n",
    "## Create a new directory\n",
    "1. `mkdir dummy && cd dummy`\n",
    "2. `touch dummy.md`\n",
    "\n",
    "## View the file you created in Storage browser\n",
    "1. In Azure portal (web), from the hamburger menu choose `Storage accounts`\n",
    "2. Choose your account you created\n",
    "3. Choose `Storage browser`\n",
    "4. Choose `File shares`\n",
    "5. Note the \"folder\" (file share) that you created earlier\n",
    "6. Open the directory you created `dummy`\n",
    "7. Note `dummy.md`\n",
    "8. In Cloud Shell, `touch dummy2.md`\n",
    "9. Refresh the Storage browser; see the new file"
   ]
  },
  {
   "cell_type": "markdown",
   "metadata": {},
   "source": [
    "# Set up Git in Azure Cloud Shell\n",
    "\n",
    "If you have not already done so, visit the [Set up Git on Azure Cloud Shell](git_setup.md) page and then return here."
   ]
  }
 ],
 "metadata": {
  "language_info": {
   "name": "python"
  }
 },
 "nbformat": 4,
 "nbformat_minor": 2
}
